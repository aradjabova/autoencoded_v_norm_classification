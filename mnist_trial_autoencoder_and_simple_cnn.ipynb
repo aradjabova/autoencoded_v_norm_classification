{
  "nbformat": 4,
  "nbformat_minor": 0,
  "metadata": {
    "colab": {
      "name": "mnist_trial_autoencoder_and_simple_cnn.ipynb",
      "provenance": [],
      "mount_file_id": "1rD6LhmOaMasuL7jlWbB0AnpCI9qN2OBi",
      "authorship_tag": "ABX9TyPJoOPc78anN1Mw1BNadnY9",
      "include_colab_link": true
    },
    "kernelspec": {
      "name": "python3",
      "display_name": "Python 3"
    },
    "accelerator": "GPU"
  },
  "cells": [
    {
      "cell_type": "markdown",
      "metadata": {
        "id": "view-in-github",
        "colab_type": "text"
      },
      "source": [
        "<a href=\"https://colab.research.google.com/github/aradjabova/dsc-capstone-project-v2-online-ds-ft-120919/blob/master/mnist_trial_autoencoder_and_simple_cnn.ipynb\" target=\"_parent\"><img src=\"https://colab.research.google.com/assets/colab-badge.svg\" alt=\"Open In Colab\"/></a>"
      ]
    },
    {
      "cell_type": "code",
      "metadata": {
        "id": "XPOG_rngmFm5",
        "colab_type": "code",
        "outputId": "fa260ea9-c3b0-4df8-e891-f0e102dca451",
        "colab": {
          "base_uri": "https://localhost:8080/",
          "height": 34
        }
      },
      "source": [
        "from google.colab import drive\n",
        "drive.mount('/content/drive')"
      ],
      "execution_count": 0,
      "outputs": [
        {
          "output_type": "stream",
          "text": [
            "Drive already mounted at /content/drive; to attempt to forcibly remount, call drive.mount(\"/content/drive\", force_remount=True).\n"
          ],
          "name": "stdout"
        }
      ]
    },
    {
      "cell_type": "markdown",
      "metadata": {
        "id": "GhObMpi-oF5V",
        "colab_type": "text"
      },
      "source": [
        "# Imports"
      ]
    },
    {
      "cell_type": "code",
      "metadata": {
        "id": "VFYfbnNgmJFT",
        "colab_type": "code",
        "outputId": "3ed38791-b0a1-45ab-fbb9-4477056bc3e3",
        "colab": {
          "base_uri": "https://localhost:8080/",
          "height": 156
        }
      },
      "source": [
        "import numpy as np\n",
        "import pandas as pd\n",
        "import glob\n",
        "import seaborn as sns\n",
        "from pathlib import Path\n",
        "import matplotlib.pyplot as plt\n",
        "%matplotlib inline\n",
        "import keras\n",
        "from keras.models import Sequential, Model\n",
        "from keras.callbacks import ModelCheckpoint, Callback, EarlyStopping\n",
        "import os, os.path\n",
        "from keras.preprocessing.image import ImageDataGenerator\n",
        "from sklearn.preprocessing import StandardScaler, LabelBinarizer\n",
        "from sklearn.metrics import roc_auc_score,roc_curve,accuracy_score,recall_score, classification_report, confusion_matrix\n",
        "from sklearn.utils import class_weight\n",
        "from keras.layers import Conv2D, MaxPooling2D, Dense, Dropout, Flatten, SeparableConv2D, Activation, GaussianNoise, Input, UpSampling2D\n",
        "from keras import backend as K\n",
        "from imblearn.over_sampling import SMOTE\n",
        "from keras.preprocessing import image\n",
        "from keras import optimizers\n",
        "from sklearn.metrics import accuracy_score, confusion_matrix, classification_report\n",
        "from keras.preprocessing.image import load_img\n",
        "\n",
        "\n"
      ],
      "execution_count": 0,
      "outputs": [
        {
          "output_type": "stream",
          "text": [
            "/usr/local/lib/python3.6/dist-packages/statsmodels/tools/_testing.py:19: FutureWarning: pandas.util.testing is deprecated. Use the functions in the public API at pandas.testing instead.\n",
            "  import pandas.util.testing as tm\n",
            "Using TensorFlow backend.\n",
            "/usr/local/lib/python3.6/dist-packages/sklearn/externals/six.py:31: FutureWarning: The module is deprecated in version 0.21 and will be removed in version 0.23 since we've dropped support for Python 2.7. Please rely on the official version of six (https://pypi.org/project/six/).\n",
            "  \"(https://pypi.org/project/six/).\", FutureWarning)\n",
            "/usr/local/lib/python3.6/dist-packages/sklearn/utils/deprecation.py:144: FutureWarning: The sklearn.neighbors.base module is  deprecated in version 0.22 and will be removed in version 0.24. The corresponding classes / functions should instead be imported from sklearn.neighbors. Anything that cannot be imported from sklearn.neighbors is now part of the private API.\n",
            "  warnings.warn(message, FutureWarning)\n"
          ],
          "name": "stderr"
        }
      ]
    },
    {
      "cell_type": "markdown",
      "metadata": {
        "id": "fC3DB0rqmJDN",
        "colab_type": "text"
      },
      "source": [
        "# Load Dataset  "
      ]
    },
    {
      "cell_type": "code",
      "metadata": {
        "id": "krC9ksrhmI-w",
        "colab_type": "code",
        "colab": {}
      },
      "source": [
        "from keras.datasets import mnist"
      ],
      "execution_count": 0,
      "outputs": []
    },
    {
      "cell_type": "code",
      "metadata": {
        "id": "CPMY7vKgmI9S",
        "colab_type": "code",
        "outputId": "09e9e47c-4506-4329-aec1-4785da49977c",
        "colab": {
          "base_uri": "https://localhost:8080/",
          "height": 51
        }
      },
      "source": [
        "(x_train, y_train), (x_test, y_test) = mnist.load_data()\n",
        "x_train= x_train/255\n",
        "x_test = x_test/255"
      ],
      "execution_count": 0,
      "outputs": [
        {
          "output_type": "stream",
          "text": [
            "Downloading data from https://s3.amazonaws.com/img-datasets/mnist.npz\n",
            "11493376/11490434 [==============================] - 1s 0us/step\n"
          ],
          "name": "stdout"
        }
      ]
    },
    {
      "cell_type": "code",
      "metadata": {
        "id": "-8DB_G-gmI3i",
        "colab_type": "code",
        "colab": {}
      },
      "source": [
        "train_list = []\n",
        "\n",
        "for num in range(len(x_train)):\n",
        "  train_list.append((x_train[num], y_train[num]))\n"
      ],
      "execution_count": 0,
      "outputs": []
    },
    {
      "cell_type": "code",
      "metadata": {
        "id": "_BrgD8NAmIyq",
        "colab_type": "code",
        "colab": {}
      },
      "source": [
        "train_df = pd.DataFrame(train_list, columns=['image', 'label'])"
      ],
      "execution_count": 0,
      "outputs": []
    },
    {
      "cell_type": "code",
      "metadata": {
        "id": "J8YYw9vsxOVz",
        "colab_type": "code",
        "outputId": "5ea121ef-e2c9-493a-d4a6-d5300b2583a3",
        "colab": {
          "base_uri": "https://localhost:8080/",
          "height": 517
        }
      },
      "source": [
        "cases_count = train_df['label'].value_counts()\n",
        "\n",
        "plt.figure(figsize=(13,8))\n",
        "sns.barplot(x=cases_count.index, y= cases_count.values)\n",
        "plt.title('Number of cases', fontsize=14)\n",
        "plt.xlabel('Case type', fontsize=12)\n",
        "plt.ylabel('Count', fontsize=12)\n",
        "plt.show()"
      ],
      "execution_count": 0,
      "outputs": [
        {
          "output_type": "display_data",
          "data": {
            "image/png": "[encoded data removed]",
            "text/plain": [
              "<Figure size 936x576 with 1 Axes>"
            ]
          },
          "metadata": {
            "tags": [],
            "needs_background": "light"
          }
        }
      ]
    },
    {
      "cell_type": "code",
      "metadata": {
        "id": "2ggh0o0VmIqU",
        "colab_type": "code",
        "outputId": "71865485-f060-47cf-9a11-86baebd09615",
        "colab": {
          "base_uri": "https://localhost:8080/",
          "height": 299
        }
      },
      "source": [
        "image_index = 0 # You may select anything up to 60,000\n",
        "print(y_train[image_index]) # The label is 8\n",
        "plt.imshow(x_train[image_index], cmap='gray')"
      ],
      "execution_count": 0,
      "outputs": [
        {
          "output_type": "stream",
          "text": [
            "5\n"
          ],
          "name": "stdout"
        },
        {
          "output_type": "execute_result",
          "data": {
            "text/plain": [
              "<matplotlib.image.AxesImage at 0x7feaca60a358>"
            ]
          },
          "metadata": {
            "tags": []
          },
          "execution_count": 7
        },
        {
          "output_type": "display_data",
          "data": {
            "image/png": "[encoded data removed]",
            "text/plain": [
              "<Figure size 432x288 with 1 Axes>"
            ]
          },
          "metadata": {
            "tags": [],
            "needs_background": "light"
          }
        }
      ]
    },
    {
      "cell_type": "code",
      "metadata": {
        "id": "j30dW3RJmIk2",
        "colab_type": "code",
        "outputId": "faf52341-caae-4c25-a701-34dfe092f473",
        "colab": {
          "base_uri": "https://localhost:8080/",
          "height": 34
        }
      },
      "source": [
        "x_train.shape[0]"
      ],
      "execution_count": 0,
      "outputs": [
        {
          "output_type": "execute_result",
          "data": {
            "text/plain": [
              "60000"
            ]
          },
          "metadata": {
            "tags": []
          },
          "execution_count": 8
        }
      ]
    },
    {
      "cell_type": "code",
      "metadata": {
        "id": "7Xhmi9MxtIMl",
        "colab_type": "code",
        "colab": {}
      },
      "source": [
        "test_list = []\n",
        "\n",
        "for num in range(len(x_test)):\n",
        "  test_list.append((x_test[num], y_test[num]))\n"
      ],
      "execution_count": 0,
      "outputs": []
    },
    {
      "cell_type": "code",
      "metadata": {
        "id": "MHJ5v8E7tIJY",
        "colab_type": "code",
        "colab": {}
      },
      "source": [
        "test_df = pd.DataFrame(test_list, columns=['image', 'label'])"
      ],
      "execution_count": 0,
      "outputs": []
    },
    {
      "cell_type": "code",
      "metadata": {
        "id": "qs8GjLWUtIGM",
        "colab_type": "code",
        "outputId": "22457d1c-a1b1-4c7d-f257-cd752527d6fa",
        "colab": {
          "base_uri": "https://localhost:8080/",
          "height": 299
        }
      },
      "source": [
        "image_index = 0 # You may select anything up to 60,000\n",
        "print(y_test[image_index]) # The label is 8\n",
        "plt.imshow(x_test[image_index], cmap='Greys')"
      ],
      "execution_count": 0,
      "outputs": [
        {
          "output_type": "stream",
          "text": [
            "7\n"
          ],
          "name": "stdout"
        },
        {
          "output_type": "execute_result",
          "data": {
            "text/plain": [
              "<matplotlib.image.AxesImage at 0x7feac9f7ac50>"
            ]
          },
          "metadata": {
            "tags": []
          },
          "execution_count": 11
        },
        {
          "output_type": "display_data",
          "data": {
            "image/png": "[encoded data removed]",
            "text/plain": [
              "<Figure size 432x288 with 1 Axes>"
            ]
          },
          "metadata": {
            "tags": [],
            "needs_background": "light"
          }
        }
      ]
    },
    {
      "cell_type": "code",
      "metadata": {
        "id": "KSts6QK3sNup",
        "colab_type": "code",
        "outputId": "7253f9aa-d0e8-4e61-864c-de4f91167d92",
        "colab": {
          "base_uri": "https://localhost:8080/",
          "height": 204
        }
      },
      "source": [
        "train_df.label.value_counts()"
      ],
      "execution_count": 0,
      "outputs": [
        {
          "output_type": "execute_result",
          "data": {
            "text/plain": [
              "1    6742\n",
              "7    6265\n",
              "3    6131\n",
              "2    5958\n",
              "9    5949\n",
              "0    5923\n",
              "6    5918\n",
              "8    5851\n",
              "4    5842\n",
              "5    5421\n",
              "Name: label, dtype: int64"
            ]
          },
          "metadata": {
            "tags": []
          },
          "execution_count": 12
        }
      ]
    },
    {
      "cell_type": "code",
      "metadata": {
        "id": "nTGvG894y02H",
        "colab_type": "code",
        "outputId": "e4335fee-010a-44f5-a62e-40db5d7fb66c",
        "colab": {
          "base_uri": "https://localhost:8080/",
          "height": 34
        }
      },
      "source": [
        "x_train.shape"
      ],
      "execution_count": 0,
      "outputs": [
        {
          "output_type": "execute_result",
          "data": {
            "text/plain": [
              "(60000, 28, 28)"
            ]
          },
          "metadata": {
            "tags": []
          },
          "execution_count": 13
        }
      ]
    },
    {
      "cell_type": "code",
      "metadata": {
        "id": "mueQ2AoP5k0J",
        "colab_type": "code",
        "colab": {}
      },
      "source": [
        "x_train2 = x_train.reshape((60000,28*28))"
      ],
      "execution_count": 0,
      "outputs": []
    },
    {
      "cell_type": "code",
      "metadata": {
        "id": "CW1owjNMNloZ",
        "colab_type": "code",
        "outputId": "ead6104d-5d3d-46f3-b640-a3d47963f20b",
        "colab": {
          "base_uri": "https://localhost:8080/",
          "height": 419
        }
      },
      "source": [
        "train_df"
      ],
      "execution_count": 0,
      "outputs": [
        {
          "output_type": "execute_result",
          "data": {
            "text/html": [
              "<div>\n",
              "<style scoped>\n",
              "    .dataframe tbody tr th:only-of-type {\n",
              "        vertical-align: middle;\n",
              "    }\n",
              "\n",
              "    .dataframe tbody tr th {\n",
              "        vertical-align: top;\n",
              "    }\n",
              "\n",
              "    .dataframe thead th {\n",
              "        text-align: right;\n",
              "    }\n",
              "</style>\n",
              "<table border=\"1\" class=\"dataframe\">\n",
              "  <thead>\n",
              "    <tr style=\"text-align: right;\">\n",
              "      <th></th>\n",
              "      <th>image</th>\n",
              "      <th>label</th>\n",
              "    </tr>\n",
              "  </thead>\n",
              "  <tbody>\n",
              "    <tr>\n",
              "      <th>0</th>\n",
              "      <td>[[0.0, 0.0, 0.0, 0.0, 0.0, 0.0, 0.0, 0.0, 0.0,...</td>\n",
              "      <td>5</td>\n",
              "    </tr>\n",
              "    <tr>\n",
              "      <th>1</th>\n",
              "      <td>[[0.0, 0.0, 0.0, 0.0, 0.0, 0.0, 0.0, 0.0, 0.0,...</td>\n",
              "      <td>0</td>\n",
              "    </tr>\n",
              "    <tr>\n",
              "      <th>2</th>\n",
              "      <td>[[0.0, 0.0, 0.0, 0.0, 0.0, 0.0, 0.0, 0.0, 0.0,...</td>\n",
              "      <td>4</td>\n",
              "    </tr>\n",
              "    <tr>\n",
              "      <th>3</th>\n",
              "      <td>[[0.0, 0.0, 0.0, 0.0, 0.0, 0.0, 0.0, 0.0, 0.0,...</td>\n",
              "      <td>1</td>\n",
              "    </tr>\n",
              "    <tr>\n",
              "      <th>4</th>\n",
              "      <td>[[0.0, 0.0, 0.0, 0.0, 0.0, 0.0, 0.0, 0.0, 0.0,...</td>\n",
              "      <td>9</td>\n",
              "    </tr>\n",
              "    <tr>\n",
              "      <th>...</th>\n",
              "      <td>...</td>\n",
              "      <td>...</td>\n",
              "    </tr>\n",
              "    <tr>\n",
              "      <th>59995</th>\n",
              "      <td>[[0.0, 0.0, 0.0, 0.0, 0.0, 0.0, 0.0, 0.0, 0.0,...</td>\n",
              "      <td>8</td>\n",
              "    </tr>\n",
              "    <tr>\n",
              "      <th>59996</th>\n",
              "      <td>[[0.0, 0.0, 0.0, 0.0, 0.0, 0.0, 0.0, 0.0, 0.0,...</td>\n",
              "      <td>3</td>\n",
              "    </tr>\n",
              "    <tr>\n",
              "      <th>59997</th>\n",
              "      <td>[[0.0, 0.0, 0.0, 0.0, 0.0, 0.0, 0.0, 0.0, 0.0,...</td>\n",
              "      <td>5</td>\n",
              "    </tr>\n",
              "    <tr>\n",
              "      <th>59998</th>\n",
              "      <td>[[0.0, 0.0, 0.0, 0.0, 0.0, 0.0, 0.0, 0.0, 0.0,...</td>\n",
              "      <td>6</td>\n",
              "    </tr>\n",
              "    <tr>\n",
              "      <th>59999</th>\n",
              "      <td>[[0.0, 0.0, 0.0, 0.0, 0.0, 0.0, 0.0, 0.0, 0.0,...</td>\n",
              "      <td>8</td>\n",
              "    </tr>\n",
              "  </tbody>\n",
              "</table>\n",
              "<p>60000 rows × 2 columns</p>\n",
              "</div>"
            ],
            "text/plain": [
              "                                                   image  label\n",
              "0      [[0.0, 0.0, 0.0, 0.0, 0.0, 0.0, 0.0, 0.0, 0.0,...      5\n",
              "1      [[0.0, 0.0, 0.0, 0.0, 0.0, 0.0, 0.0, 0.0, 0.0,...      0\n",
              "2      [[0.0, 0.0, 0.0, 0.0, 0.0, 0.0, 0.0, 0.0, 0.0,...      4\n",
              "3      [[0.0, 0.0, 0.0, 0.0, 0.0, 0.0, 0.0, 0.0, 0.0,...      1\n",
              "4      [[0.0, 0.0, 0.0, 0.0, 0.0, 0.0, 0.0, 0.0, 0.0,...      9\n",
              "...                                                  ...    ...\n",
              "59995  [[0.0, 0.0, 0.0, 0.0, 0.0, 0.0, 0.0, 0.0, 0.0,...      8\n",
              "59996  [[0.0, 0.0, 0.0, 0.0, 0.0, 0.0, 0.0, 0.0, 0.0,...      3\n",
              "59997  [[0.0, 0.0, 0.0, 0.0, 0.0, 0.0, 0.0, 0.0, 0.0,...      5\n",
              "59998  [[0.0, 0.0, 0.0, 0.0, 0.0, 0.0, 0.0, 0.0, 0.0,...      6\n",
              "59999  [[0.0, 0.0, 0.0, 0.0, 0.0, 0.0, 0.0, 0.0, 0.0,...      8\n",
              "\n",
              "[60000 rows x 2 columns]"
            ]
          },
          "metadata": {
            "tags": []
          },
          "execution_count": 15
        }
      ]
    },
    {
      "cell_type": "markdown",
      "metadata": {
        "id": "LdSzmeM9_0CH",
        "colab_type": "text"
      },
      "source": [
        "# Smoting?\n"
      ]
    },
    {
      "cell_type": "code",
      "metadata": {
        "id": "b7OErWyVw1iy",
        "colab_type": "code",
        "colab": {}
      },
      "source": [
        "# sm = SMOTE()"
      ],
      "execution_count": 0,
      "outputs": []
    },
    {
      "cell_type": "code",
      "metadata": {
        "id": "1iIOWMsKxDMh",
        "colab_type": "code",
        "colab": {}
      },
      "source": [
        "# x_smote, y_smote = sm.fit_resample(x_train2, y_train)"
      ],
      "execution_count": 0,
      "outputs": []
    },
    {
      "cell_type": "code",
      "metadata": {
        "id": "UMQbHU_K_eNI",
        "colab_type": "code",
        "colab": {}
      },
      "source": [
        "# x_smote_reshape = x_smote.reshape(x_smote.shape[0], 28, 28, 1)"
      ],
      "execution_count": 0,
      "outputs": []
    },
    {
      "cell_type": "markdown",
      "metadata": {
        "id": "ofxdYjmMkGdQ",
        "colab_type": "text"
      },
      "source": [
        "# Autoencoder simple"
      ]
    },
    {
      "cell_type": "code",
      "metadata": {
        "id": "BJ4sXV8dxcSI",
        "colab_type": "code",
        "outputId": "b2bc9191-0394-4e21-a289-8045ec2b28f5",
        "colab": {
          "base_uri": "https://localhost:8080/",
          "height": 34
        }
      },
      "source": [
        "x_train = x_train.reshape(x_train.shape[0], 28, 28, 1)\n",
        "x_train.shape "
      ],
      "execution_count": 0,
      "outputs": [
        {
          "output_type": "execute_result",
          "data": {
            "text/plain": [
              "(60000, 28, 28, 1)"
            ]
          },
          "metadata": {
            "tags": []
          },
          "execution_count": 19
        }
      ]
    },
    {
      "cell_type": "code",
      "metadata": {
        "id": "Wf0c0tfQCCNv",
        "colab_type": "code",
        "colab": {}
      },
      "source": [
        "x_test = x_test.reshape(x_test.shape[0], 28, 28, 1)"
      ],
      "execution_count": 0,
      "outputs": []
    },
    {
      "cell_type": "code",
      "metadata": {
        "id": "1En-W2r3QjAo",
        "colab_type": "code",
        "colab": {}
      },
      "source": [
        "\n",
        "# input_img = Input(shape=(28,28,1))\n",
        "# x = Conv2D(32,(3,3), activation='relu', padding='same')(input_img)\n",
        "# x = MaxPooling2D((2,2), padding='same')(x)\n",
        "# x = Conv2D(32,(3,3), activation='relu', padding='same')(x)\n",
        "# x = MaxPooling2D((2,2), padding='same')(x)\n",
        "# x = Conv2D(32,(3,3), activation='relu', padding='same')(x)\n",
        "# encoded = MaxPooling2D((2,2), padding='same', name='encoder')(x)\n",
        "\n",
        "# x = Conv2D(32, (3, 3), activation='relu', padding='same')(encoded)\n",
        "# x = UpSampling2D((2, 2))(x)\n",
        "# x = Conv2D(32, (3, 3), activation='relu', padding='same')(x)\n",
        "# x = UpSampling2D((2, 2))(x)\n",
        "# x = Conv2D(32, (3, 3), activation='relu')(x)\n",
        "# x = UpSampling2D((2, 2))(x)\n",
        "# decoded = Conv2D(1, (3, 3), activation='sigmoid', padding='same')(x)\n",
        "\n"
      ],
      "execution_count": 0,
      "outputs": []
    },
    {
      "cell_type": "code",
      "metadata": {
        "id": "o-0nPtV5kcUy",
        "colab_type": "code",
        "colab": {}
      },
      "source": [
        "input_img = Input(shape=(28,28,1))"
      ],
      "execution_count": 0,
      "outputs": []
    },
    {
      "cell_type": "code",
      "metadata": {
        "id": "rdoAaxwvkcTN",
        "colab_type": "code",
        "colab": {}
      },
      "source": [
        "x = Conv2D(64, (3, 3), activation='relu', padding='same')(input_img)\n",
        "x = MaxPooling2D((2, 2), padding='same')(x)\n",
        "x = Conv2D(32, (3, 3), activation='relu', padding='same')(x)\n",
        "# x = MaxPooling2D((2, 2), padding='same')(x)\n",
        "# x = Conv2D(16, (3, 3), activation='relu', padding='same')(x)\n",
        "encoded = MaxPooling2D((2, 2), padding='same')(x)"
      ],
      "execution_count": 0,
      "outputs": []
    },
    {
      "cell_type": "code",
      "metadata": {
        "id": "Zn2KvWqckcO4",
        "colab_type": "code",
        "colab": {}
      },
      "source": [
        "# x = Conv2D(16, (3, 3), activation='relu', padding='same')(encoded)\n",
        "# x = UpSampling2D((2, 2))(x)\n",
        "x = Conv2D(32, (3, 3), activation='relu', padding='same')(encoded)\n",
        "x = UpSampling2D((2, 2))(x)\n",
        "x = Conv2D(64, (3, 3), activation='relu', padding='same')(x)\n",
        "x = UpSampling2D((2, 2))(x)\n",
        "decoded = Conv2D(1, (3, 3), activation='relu', padding='same')(x)"
      ],
      "execution_count": 0,
      "outputs": []
    },
    {
      "cell_type": "code",
      "metadata": {
        "id": "kcL5gOWNkGHc",
        "colab_type": "code",
        "colab": {}
      },
      "source": [
        "autoencoder = Model(input_img, decoded)\n",
        "autoencoder.compile(optimizer='adam', loss='mse',\n",
        "                    metrics=['accuracy','mse'])\n"
      ],
      "execution_count": 0,
      "outputs": []
    },
    {
      "cell_type": "code",
      "metadata": {
        "id": "9cu9tCb5gb8a",
        "colab_type": "code",
        "outputId": "7b0eeba6-8f1e-4d4a-bee1-c659b4eb7e7a",
        "colab": {
          "base_uri": "https://localhost:8080/",
          "height": 493
        }
      },
      "source": [
        "autoencoder.summary()"
      ],
      "execution_count": 0,
      "outputs": [
        {
          "output_type": "stream",
          "text": [
            "Model: \"model_1\"\n",
            "_________________________________________________________________\n",
            "Layer (type)                 Output Shape              Param #   \n",
            "=================================================================\n",
            "input_1 (InputLayer)         (None, 28, 28, 1)         0         \n",
            "_________________________________________________________________\n",
            "conv2d_1 (Conv2D)            (None, 28, 28, 64)        640       \n",
            "_________________________________________________________________\n",
            "max_pooling2d_1 (MaxPooling2 (None, 14, 14, 64)        0         \n",
            "_________________________________________________________________\n",
            "conv2d_2 (Conv2D)            (None, 14, 14, 32)        18464     \n",
            "_________________________________________________________________\n",
            "max_pooling2d_2 (MaxPooling2 (None, 7, 7, 32)          0         \n",
            "_________________________________________________________________\n",
            "conv2d_3 (Conv2D)            (None, 7, 7, 32)          9248      \n",
            "_________________________________________________________________\n",
            "up_sampling2d_1 (UpSampling2 (None, 14, 14, 32)        0         \n",
            "_________________________________________________________________\n",
            "conv2d_4 (Conv2D)            (None, 14, 14, 64)        18496     \n",
            "_________________________________________________________________\n",
            "up_sampling2d_2 (UpSampling2 (None, 28, 28, 64)        0         \n",
            "_________________________________________________________________\n",
            "conv2d_5 (Conv2D)            (None, 28, 28, 1)         577       \n",
            "=================================================================\n",
            "Total params: 47,425\n",
            "Trainable params: 47,425\n",
            "Non-trainable params: 0\n",
            "_________________________________________________________________\n"
          ],
          "name": "stdout"
        }
      ]
    },
    {
      "cell_type": "code",
      "metadata": {
        "id": "SlHQV9XAkFsf",
        "colab_type": "code",
        "outputId": "b65ea4a9-c232-40b3-daa5-624ec0e5c528",
        "colab": {
          "base_uri": "https://localhost:8080/",
          "height": 136
        }
      },
      "source": [
        "autoencoder.fit(x_train, x_train, \n",
        "                epochs=3,)\n",
        "                # # batch_size=1000,\n",
        "                # steps_per_epoch=100,\n",
        "                # validation_data=(x_test, x_test),\n",
        "                # validation_steps=100\n",
        "                # )"
      ],
      "execution_count": 0,
      "outputs": [
        {
          "output_type": "stream",
          "text": [
            "Epoch 1/3\n",
            "60000/60000 [==============================] - 13s 210us/step - loss: 0.0047 - accuracy: 0.8150 - mse: 0.0047\n",
            "Epoch 2/3\n",
            "60000/60000 [==============================] - 11s 182us/step - loss: 0.0022 - accuracy: 0.8154 - mse: 0.0022\n",
            "Epoch 3/3\n",
            "60000/60000 [==============================] - 11s 180us/step - loss: 0.0018 - accuracy: 0.8155 - mse: 0.0018\n"
          ],
          "name": "stdout"
        },
        {
          "output_type": "execute_result",
          "data": {
            "text/plain": [
              "<keras.callbacks.callbacks.History at 0x7feac009de48>"
            ]
          },
          "metadata": {
            "tags": []
          },
          "execution_count": 26
        }
      ]
    },
    {
      "cell_type": "code",
      "metadata": {
        "id": "3RlQ0i3GFute",
        "colab_type": "code",
        "outputId": "774440db-fa49-43cd-9496-58bbbcff95fe",
        "colab": {
          "base_uri": "https://localhost:8080/",
          "height": 51
        }
      },
      "source": [
        "autoencoder.evaluate(x_test,x_test)"
      ],
      "execution_count": 0,
      "outputs": [
        {
          "output_type": "stream",
          "text": [
            "10000/10000 [==============================] - 1s 85us/step\n"
          ],
          "name": "stdout"
        },
        {
          "output_type": "execute_result",
          "data": {
            "text/plain": [
              "[0.0015832389002665877, 0.814473569393158, 0.001583239296451211]"
            ]
          },
          "metadata": {
            "tags": []
          },
          "execution_count": 27
        }
      ]
    },
    {
      "cell_type": "code",
      "metadata": {
        "id": "kW6b0iaTAM1d",
        "colab_type": "code",
        "outputId": "b56059a3-67d2-4978-eaf7-6e8db3e13170",
        "colab": {
          "base_uri": "https://localhost:8080/",
          "height": 34
        }
      },
      "source": [
        "x_test[1].shape"
      ],
      "execution_count": 0,
      "outputs": [
        {
          "output_type": "execute_result",
          "data": {
            "text/plain": [
              "(28, 28, 1)"
            ]
          },
          "metadata": {
            "tags": []
          },
          "execution_count": 28
        }
      ]
    },
    {
      "cell_type": "code",
      "metadata": {
        "id": "hgVHrGeLAUQW",
        "colab_type": "code",
        "outputId": "8c837637-7f01-44aa-ca36-3a5b7e67a50d",
        "colab": {
          "base_uri": "https://localhost:8080/",
          "height": 34
        }
      },
      "source": [
        "x = x_test[1].reshape(28, 28)\n",
        "x.shape"
      ],
      "execution_count": 0,
      "outputs": [
        {
          "output_type": "execute_result",
          "data": {
            "text/plain": [
              "(28, 28)"
            ]
          },
          "metadata": {
            "tags": []
          },
          "execution_count": 29
        }
      ]
    },
    {
      "cell_type": "code",
      "metadata": {
        "id": "ETExjZwYFurt",
        "colab_type": "code",
        "outputId": "6c33533a-c3aa-499d-a4e7-e240415eb11b",
        "colab": {
          "base_uri": "https://localhost:8080/",
          "height": 248
        }
      },
      "source": [
        "decoded_imgs = autoencoder.predict(x_test)\n",
        "\n",
        "n = 10\n",
        "plt.figure(figsize=(20, 4))\n",
        "for i in range(1,n):\n",
        "    # display original\n",
        "    ax = plt.subplot(2, n, i)\n",
        "    plt.imshow(x_test[i].reshape(28, 28))\n",
        "    plt.gray()\n",
        "    ax.get_xaxis().set_visible(False)\n",
        "    ax.get_yaxis().set_visible(False)\n",
        "\n",
        "    # display reconstruction\n",
        "    ax = plt.subplot(2, n, i + n)\n",
        "    plt.imshow(decoded_imgs[i].reshape(28, 28))\n",
        "    plt.gray()\n",
        "    ax.get_xaxis().set_visible(False)\n",
        "    ax.get_yaxis().set_visible(False)\n",
        "plt.show()"
      ],
      "execution_count": 0,
      "outputs": [
        {
          "output_type": "display_data",
          "data": {
            "image/png": "[encoded data removed]",
            "text/plain": [
              "<Figure size 1440x288 with 18 Axes>"
            ]
          },
          "metadata": {
            "tags": [],
            "needs_background": "light"
          }
        }
      ]
    },
    {
      "cell_type": "code",
      "metadata": {
        "id": "b8xJzRfTFumV",
        "colab_type": "code",
        "colab": {}
      },
      "source": [
        ""
      ],
      "execution_count": 0,
      "outputs": []
    },
    {
      "cell_type": "code",
      "metadata": {
        "id": "I1UZ5df2Fujd",
        "colab_type": "code",
        "colab": {}
      },
      "source": [
        ""
      ],
      "execution_count": 0,
      "outputs": []
    },
    {
      "cell_type": "markdown",
      "metadata": {
        "id": "brHODHRGr6mu",
        "colab_type": "text"
      },
      "source": [
        "# Small model"
      ]
    },
    {
      "cell_type": "code",
      "metadata": {
        "id": "K6WebYOcqdwH",
        "colab_type": "code",
        "outputId": "34f31712-5274-40f1-dabd-16cbd16398c4",
        "colab": {
          "base_uri": "https://localhost:8080/",
          "height": 68
        }
      },
      "source": [
        "# Reshaping the array to 4-dims so that it can work with the Keras API\n",
        "x_train = x_train.reshape(x_train.shape[0], 28, 28, 1)\n",
        "x_test = x_test.reshape(x_test.shape[0], 28, 28, 1)\n",
        "input_shape = (28, 28, 1)\n",
        "# Making sure that the values are float so that we can get decimal points after division\n",
        "x_train = x_train.astype('float32')\n",
        "x_test = x_test.astype('float32')\n",
        "# Normalizing the RGB codes by dividing it to the max RGB value.\n",
        "x_train /= 255\n",
        "x_test /= 255\n",
        "print('x_train shape:', x_train.shape)\n",
        "print('Number of images in x_train', x_train.shape[0])\n",
        "print('Number of images in x_test', x_test.shape[0])"
      ],
      "execution_count": 0,
      "outputs": [
        {
          "output_type": "stream",
          "text": [
            "x_train shape: (60000, 28, 28, 1)\n",
            "Number of images in x_train 60000\n",
            "Number of images in x_test 10000\n"
          ],
          "name": "stdout"
        }
      ]
    },
    {
      "cell_type": "code",
      "metadata": {
        "id": "bxdOHSj4mIfz",
        "colab_type": "code",
        "colab": {}
      },
      "source": [
        "# Creating a Sequential Model and adding the layers\n",
        "model = Sequential()\n",
        "model.add(Conv2D(28, kernel_size=(3,3), input_shape=input_shape))\n",
        "model.add(MaxPooling2D(pool_size=(2, 2)))\n",
        "model.add(Flatten()) # Flattening the 2D arrays for fully connected layers\n",
        "model.add(Dense(128, activation='relu'))\n",
        "model.add(Dropout(0.2))\n",
        "model.add(Dense(10,activation='softmax'))"
      ],
      "execution_count": 0,
      "outputs": []
    },
    {
      "cell_type": "code",
      "metadata": {
        "id": "sEif12MHmIdX",
        "colab_type": "code",
        "outputId": "472d4c44-7e13-414a-934d-2ceeda8d040a",
        "colab": {
          "base_uri": "https://localhost:8080/",
          "height": 374
        }
      },
      "source": [
        "model.compile(optimizer='adam', \n",
        "              loss='sparse_categorical_crossentropy', \n",
        "              metrics=['accuracy'])\n",
        "mod = model.fit(x=x_train,y=y_train, epochs=10, validation_split=.4 )"
      ],
      "execution_count": 0,
      "outputs": [
        {
          "output_type": "stream",
          "text": [
            "Train on 36000 samples, validate on 24000 samples\n",
            "Epoch 1/10\n",
            "36000/36000 [==============================] - 7s 183us/step - loss: 0.7514 - accuracy: 0.7716 - val_loss: 0.3080 - val_accuracy: 0.9079\n",
            "Epoch 2/10\n",
            "36000/36000 [==============================] - 6s 175us/step - loss: 0.2834 - accuracy: 0.9161 - val_loss: 0.2245 - val_accuracy: 0.9311\n",
            "Epoch 3/10\n",
            "36000/36000 [==============================] - 6s 176us/step - loss: 0.2104 - accuracy: 0.9369 - val_loss: 0.1768 - val_accuracy: 0.9463\n",
            "Epoch 4/10\n",
            "36000/36000 [==============================] - 6s 178us/step - loss: 0.1698 - accuracy: 0.9498 - val_loss: 0.1476 - val_accuracy: 0.9557\n",
            "Epoch 5/10\n",
            "36000/36000 [==============================] - 6s 178us/step - loss: 0.1433 - accuracy: 0.9572 - val_loss: 0.1346 - val_accuracy: 0.9599\n",
            "Epoch 6/10\n",
            "36000/36000 [==============================] - 6s 176us/step - loss: 0.1264 - accuracy: 0.9611 - val_loss: 0.1244 - val_accuracy: 0.9619\n",
            "Epoch 7/10\n",
            "36000/36000 [==============================] - 6s 178us/step - loss: 0.1110 - accuracy: 0.9656 - val_loss: 0.1189 - val_accuracy: 0.9647\n",
            "Epoch 8/10\n",
            "36000/36000 [==============================] - 6s 177us/step - loss: 0.1022 - accuracy: 0.9689 - val_loss: 0.1093 - val_accuracy: 0.9674\n",
            "Epoch 9/10\n",
            "36000/36000 [==============================] - 6s 178us/step - loss: 0.0910 - accuracy: 0.9719 - val_loss: 0.1078 - val_accuracy: 0.9682\n",
            "Epoch 10/10\n",
            "36000/36000 [==============================] - 6s 177us/step - loss: 0.0873 - accuracy: 0.9728 - val_loss: 0.1050 - val_accuracy: 0.9693\n"
          ],
          "name": "stdout"
        }
      ]
    },
    {
      "cell_type": "code",
      "metadata": {
        "id": "C8cE2PNYmIZz",
        "colab_type": "code",
        "outputId": "e9372969-548d-4501-cde7-b0d7f6af7860",
        "colab": {
          "base_uri": "https://localhost:8080/",
          "height": 51
        }
      },
      "source": [
        "model.evaluate(x_test, y_test)"
      ],
      "execution_count": 0,
      "outputs": [
        {
          "output_type": "stream",
          "text": [
            "10000/10000 [==============================] - 1s 68us/step\n"
          ],
          "name": "stdout"
        },
        {
          "output_type": "execute_result",
          "data": {
            "text/plain": [
              "[0.08875674017611891, 0.9721999764442444]"
            ]
          },
          "metadata": {
            "tags": []
          },
          "execution_count": 34
        }
      ]
    },
    {
      "cell_type": "code",
      "metadata": {
        "id": "LVjeDW_wt5Oq",
        "colab_type": "code",
        "colab": {}
      },
      "source": [
        "# # plt.imshow(x_test[image_index].reshape(28, 28),cmap='Greys')\n",
        "# for i \n",
        "# pred = model.predict(x_test.reshape(1, 28, 28, 1))\n",
        "# print(pred.argmax())"
      ],
      "execution_count": 0,
      "outputs": []
    },
    {
      "cell_type": "code",
      "metadata": {
        "id": "u8x59oS48OWb",
        "colab_type": "code",
        "colab": {}
      },
      "source": [
        "pred = model.predict(x_test)"
      ],
      "execution_count": 0,
      "outputs": []
    },
    {
      "cell_type": "code",
      "metadata": {
        "id": "8sfZqhv8sZHH",
        "colab_type": "code",
        "colab": {}
      },
      "source": [
        "accuracy=mod.history['accuracy']\n",
        "val_acc=mod.history['val_accuracy']\n",
        "loss=mod.history['loss']\n",
        "val_loss=mod.history['val_loss']\n",
        "epochs=list(range(10))\n"
      ],
      "execution_count": 0,
      "outputs": []
    },
    {
      "cell_type": "code",
      "metadata": {
        "id": "ou08QqnWse2t",
        "colab_type": "code",
        "outputId": "b4da6292-4793-4194-e6df-a785e2c7865a",
        "colab": {
          "base_uri": "https://localhost:8080/",
          "height": 295
        }
      },
      "source": [
        "import matplotlib.pyplot as plt\n",
        "plt.plot(epochs,accuracy)\n",
        "plt.title('Training Accuracy')\n",
        "plt.xlabel('EPOCHS')\n",
        "plt.ylabel('ACCURACY')\n",
        "plt.plot(epochs,val_acc)\n",
        "plt.legend(['TRAINING ACC','VAL ACC'])\n",
        "plt.show()"
      ],
      "execution_count": 0,
      "outputs": [
        {
          "output_type": "display_data",
          "data": {
            "image/png": "[encoded data removed]",
            "text/plain": [
              "<Figure size 432x288 with 1 Axes>"
            ]
          },
          "metadata": {
            "tags": [],
            "needs_background": "light"
          }
        }
      ]
    },
    {
      "cell_type": "code",
      "metadata": {
        "id": "iiXsQBJSse1Z",
        "colab_type": "code",
        "outputId": "0dc60c6f-84bc-4099-9c86-ad4d4f127d59",
        "colab": {
          "base_uri": "https://localhost:8080/",
          "height": 295
        }
      },
      "source": [
        "plt.plot(epochs,loss)\n",
        "plt.xlabel('EPOCHS')\n",
        "plt.ylabel('LOSS')\n",
        "plt.plot(epochs,val_loss)\n",
        "plt.legend(['TRAINING LOSS','VAL LOSS'])\n",
        "plt.title('Training Loss')\n",
        "plt.show()"
      ],
      "execution_count": 0,
      "outputs": [
        {
          "output_type": "display_data",
          "data": {
            "image/png": "[encoded data removed]",
            "text/plain": [
              "<Figure size 432x288 with 1 Axes>"
            ]
          },
          "metadata": {
            "tags": [],
            "needs_background": "light"
          }
        }
      ]
    },
    {
      "cell_type": "code",
      "metadata": {
        "id": "z6jhATZs74TK",
        "colab_type": "code",
        "outputId": "d09fe53e-8e49-4fdc-a5a6-85d53ba5029b",
        "colab": {
          "base_uri": "https://localhost:8080/",
          "height": 34
        }
      },
      "source": [
        "pred.shape"
      ],
      "execution_count": 0,
      "outputs": [
        {
          "output_type": "execute_result",
          "data": {
            "text/plain": [
              "(10000, 10)"
            ]
          },
          "metadata": {
            "tags": []
          },
          "execution_count": 40
        }
      ]
    },
    {
      "cell_type": "code",
      "metadata": {
        "id": "icvncD4XI007",
        "colab_type": "code",
        "outputId": "b13e0973-840b-43cb-d55e-6c046fa6c4a2",
        "colab": {
          "base_uri": "https://localhost:8080/",
          "height": 34
        }
      },
      "source": [
        "y_test"
      ],
      "execution_count": 0,
      "outputs": [
        {
          "output_type": "execute_result",
          "data": {
            "text/plain": [
              "array([7, 2, 1, ..., 4, 5, 6], dtype=uint8)"
            ]
          },
          "metadata": {
            "tags": []
          },
          "execution_count": 41
        }
      ]
    },
    {
      "cell_type": "code",
      "metadata": {
        "id": "ekiXTQ9nI4O5",
        "colab_type": "code",
        "colab": {}
      },
      "source": [
        "pred = np.argmax(pred, axis=1)"
      ],
      "execution_count": 0,
      "outputs": []
    },
    {
      "cell_type": "code",
      "metadata": {
        "id": "-LFkYWWsIi08",
        "colab_type": "code",
        "outputId": "f32b5238-f458-427a-c391-7702bfadcfef",
        "colab": {
          "base_uri": "https://localhost:8080/",
          "height": 306
        }
      },
      "source": [
        "print(classification_report(y_test, pred ))"
      ],
      "execution_count": 0,
      "outputs": [
        {
          "output_type": "stream",
          "text": [
            "              precision    recall  f1-score   support\n",
            "\n",
            "           0       0.97      0.99      0.98       980\n",
            "           1       0.98      0.99      0.99      1135\n",
            "           2       0.97      0.98      0.97      1032\n",
            "           3       0.96      0.98      0.97      1010\n",
            "           4       0.97      0.98      0.97       982\n",
            "           5       0.98      0.95      0.96       892\n",
            "           6       0.98      0.98      0.98       958\n",
            "           7       0.98      0.96      0.97      1028\n",
            "           8       0.96      0.96      0.96       974\n",
            "           9       0.97      0.96      0.97      1009\n",
            "\n",
            "    accuracy                           0.97     10000\n",
            "   macro avg       0.97      0.97      0.97     10000\n",
            "weighted avg       0.97      0.97      0.97     10000\n",
            "\n"
          ],
          "name": "stdout"
        }
      ]
    },
    {
      "cell_type": "code",
      "metadata": {
        "id": "qxSbAjvIserC",
        "colab_type": "code",
        "outputId": "f0f9634c-46df-4428-98a1-6284dcf3893f",
        "colab": {
          "base_uri": "https://localhost:8080/",
          "height": 499
        }
      },
      "source": [
        "cm = confusion_matrix(y_test, pred)\n",
        "plt.figure(figsize=(8,8))\n",
        "sns.heatmap(cm, cmap=\"Blues\", annot=True, fmt='.3g', cbar=False)\n",
        "plt.title('Confusion Matrix')\n",
        "plt.show()"
      ],
      "execution_count": 0,
      "outputs": [
        {
          "output_type": "display_data",
          "data": {
            "image/png": "[encoded data removed]",
            "text/plain": [
              "<Figure size 576x576 with 1 Axes>"
            ]
          },
          "metadata": {
            "tags": [],
            "needs_background": "light"
          }
        }
      ]
    },
    {
      "cell_type": "code",
      "metadata": {
        "id": "cWEHTZ9nsepG",
        "colab_type": "code",
        "outputId": "cfd73d5d-4e85-4097-df4b-6dd768ce76b4",
        "colab": {
          "base_uri": "https://localhost:8080/",
          "height": 34
        }
      },
      "source": [
        "recall_score(y_test, pred, average='micro')"
      ],
      "execution_count": 0,
      "outputs": [
        {
          "output_type": "execute_result",
          "data": {
            "text/plain": [
              "0.9722"
            ]
          },
          "metadata": {
            "tags": []
          },
          "execution_count": 45
        }
      ]
    },
    {
      "cell_type": "markdown",
      "metadata": {
        "id": "PdDqBa34N-HT",
        "colab_type": "text"
      },
      "source": [
        "# Testing"
      ]
    },
    {
      "cell_type": "code",
      "metadata": {
        "id": "yfzEnODAOjM_",
        "colab_type": "code",
        "outputId": "9641c908-f7a4-433b-9c2e-e6a6911199f0",
        "colab": {
          "base_uri": "https://localhost:8080/",
          "height": 248
        }
      },
      "source": [
        "x_test = np.reshape(x_test, (len(x_test), 28, 28, 1))\n",
        "# x_train = np.reshape(x_train, (len(x_train), 28, 28, 1))\n",
        "\n",
        "noise_factor = 0.001\n",
        "x_train_noisy = x_train + noise_factor * np.random.normal(loc=0.0, scale=1.0, size=x_train.shape)\n",
        "x_test_noisy = x_test + noise_factor * np.random.normal(loc=0.0, scale=1.0, size=x_test.shape)\n",
        "x_train_noisy = np.clip(x_train_noisy, 0., 1.)\n",
        "x_test_noisy = np.clip(x_test_noisy, 0., 1.)\n",
        "\n",
        "n = 10\n",
        "plt.figure(figsize=(20, 4))\n",
        "for i in range(1,n):\n",
        "    # display original\n",
        "    ax = plt.subplot(2, n, i)\n",
        "    plt.imshow(x_test[i].reshape(28, 28))\n",
        "    plt.gray()\n",
        "    ax.get_xaxis().set_visible(False)\n",
        "    ax.get_yaxis().set_visible(False)\n",
        "\n",
        "    # display reconstruction\n",
        "    ax = plt.subplot(2, n, i + n)\n",
        "    plt.imshow(x_train_noisy[i].reshape(28, 28))\n",
        "    plt.gray()\n",
        "    ax.get_xaxis().set_visible(False)\n",
        "    ax.get_yaxis().set_visible(False)\n",
        "plt.show()"
      ],
      "execution_count": 0,
      "outputs": [
        {
          "output_type": "display_data",
          "data": {
            "image/png": "[encoded data removed]",
            "text/plain": [
              "<Figure size 1440x288 with 18 Axes>"
            ]
          },
          "metadata": {
            "tags": [],
            "needs_background": "light"
          }
        }
      ]
    },
    {
      "cell_type": "code",
      "metadata": {
        "id": "pQ150hkyOEeC",
        "colab_type": "code",
        "colab": {}
      },
      "source": [
        "input_img = Input(shape=(28,28,1))"
      ],
      "execution_count": 0,
      "outputs": []
    },
    {
      "cell_type": "code",
      "metadata": {
        "id": "kbYnddUssemO",
        "colab_type": "code",
        "colab": {}
      },
      "source": [
        "x = Conv2D(64, (3, 3), activation='relu', padding='same')(input_img)\n",
        "x = MaxPooling2D((2, 2), padding='same')(x)\n",
        "x = Conv2D(32, (3, 3), activation='relu', padding='same')(x)\n",
        "# x = MaxPooling2D((2, 2), padding='same')(x)\n",
        "# x = Conv2D(16, (3, 3), activation='relu', padding='same')(x)\n",
        "encoded = MaxPooling2D((2, 2), padding='same')(x)\n",
        "\n",
        "# x = Conv2D(16, (3, 3), activation='relu', padding='same')(encoded)\n",
        "# x = UpSampling2D((2, 2))(x)\n",
        "x = Conv2D(32, (3, 3), activation='relu', padding='same')(encoded)\n",
        "x = UpSampling2D((2, 2))(x)\n",
        "x = Conv2D(64, (3, 3), activation='relu', padding='same')(x)\n",
        "x = UpSampling2D((2, 2))(x)\n",
        "decoded = Conv2D(1, (3, 3), activation='relu', padding='same')(x)\n",
        "\n",
        "autoencoder = Model(input_img, decoded)\n",
        "autoencoder.compile(optimizer='adam', loss='mse',\n",
        "                    metrics=['accuracy','mse'])"
      ],
      "execution_count": 0,
      "outputs": []
    },
    {
      "cell_type": "code",
      "metadata": {
        "id": "esmt0bN4tHAO",
        "colab_type": "code",
        "outputId": "ac9b70b4-a283-4d35-f755-b9126109f4a6",
        "colab": {
          "base_uri": "https://localhost:8080/",
          "height": 493
        }
      },
      "source": [
        "autoencoder.summary()"
      ],
      "execution_count": 0,
      "outputs": [
        {
          "output_type": "stream",
          "text": [
            "Model: \"model_7\"\n",
            "_________________________________________________________________\n",
            "Layer (type)                 Output Shape              Param #   \n",
            "=================================================================\n",
            "input_2 (InputLayer)         (None, 28, 28, 1)         0         \n",
            "_________________________________________________________________\n",
            "conv2d_36 (Conv2D)           (None, 28, 28, 64)        640       \n",
            "_________________________________________________________________\n",
            "max_pooling2d_16 (MaxPooling (None, 14, 14, 64)        0         \n",
            "_________________________________________________________________\n",
            "conv2d_37 (Conv2D)           (None, 14, 14, 32)        18464     \n",
            "_________________________________________________________________\n",
            "max_pooling2d_17 (MaxPooling (None, 7, 7, 32)          0         \n",
            "_________________________________________________________________\n",
            "conv2d_38 (Conv2D)           (None, 7, 7, 32)          9248      \n",
            "_________________________________________________________________\n",
            "up_sampling2d_15 (UpSampling (None, 14, 14, 32)        0         \n",
            "_________________________________________________________________\n",
            "conv2d_39 (Conv2D)           (None, 14, 14, 64)        18496     \n",
            "_________________________________________________________________\n",
            "up_sampling2d_16 (UpSampling (None, 28, 28, 64)        0         \n",
            "_________________________________________________________________\n",
            "conv2d_40 (Conv2D)           (None, 28, 28, 1)         577       \n",
            "=================================================================\n",
            "Total params: 47,425\n",
            "Trainable params: 47,425\n",
            "Non-trainable params: 0\n",
            "_________________________________________________________________\n"
          ],
          "name": "stdout"
        }
      ]
    },
    {
      "cell_type": "code",
      "metadata": {
        "id": "jmYD1HvvsejN",
        "colab_type": "code",
        "outputId": "e286c95c-7b2a-4b68-ddbd-692eb10a71c1",
        "colab": {
          "base_uri": "https://localhost:8080/",
          "height": 411
        }
      },
      "source": [
        "autoencoder.fit(x_train_noisy, x_train,\n",
        "epochs=10,\n",
        "batch_size=128,\n",
        "shuffle=True,\n",
        "validation_data=(x_test_noisy, x_test),\n",
        ")"
      ],
      "execution_count": 0,
      "outputs": [
        {
          "output_type": "stream",
          "text": [
            "Train on 60000 samples, validate on 10000 samples\n",
            "Epoch 1/10\n",
            "60000/60000 [==============================] - 4s 72us/step - loss: 1.7225e-06 - accuracy: 0.8088 - mse: 1.7225e-06 - val_loss: 1.7525e-06 - val_accuracy: 0.8072 - val_mse: 1.7525e-06\n",
            "Epoch 2/10\n",
            "60000/60000 [==============================] - 4s 73us/step - loss: 1.7225e-06 - accuracy: 0.8088 - mse: 1.7225e-06 - val_loss: 1.7525e-06 - val_accuracy: 0.8072 - val_mse: 1.7525e-06\n",
            "Epoch 3/10\n",
            "60000/60000 [==============================] - 4s 74us/step - loss: 1.7225e-06 - accuracy: 0.8088 - mse: 1.7225e-06 - val_loss: 1.7525e-06 - val_accuracy: 0.8072 - val_mse: 1.7525e-06\n",
            "Epoch 4/10\n",
            "60000/60000 [==============================] - 4s 71us/step - loss: 1.7225e-06 - accuracy: 0.8088 - mse: 1.7225e-06 - val_loss: 1.7525e-06 - val_accuracy: 0.8072 - val_mse: 1.7525e-06\n",
            "Epoch 5/10\n",
            "60000/60000 [==============================] - 4s 72us/step - loss: 1.7225e-06 - accuracy: 0.8088 - mse: 1.7225e-06 - val_loss: 1.7525e-06 - val_accuracy: 0.8072 - val_mse: 1.7525e-06\n",
            "Epoch 6/10\n",
            "60000/60000 [==============================] - 4s 73us/step - loss: 1.7225e-06 - accuracy: 0.8088 - mse: 1.7225e-06 - val_loss: 1.7525e-06 - val_accuracy: 0.8072 - val_mse: 1.7525e-06\n",
            "Epoch 7/10\n",
            "60000/60000 [==============================] - 4s 72us/step - loss: 1.7225e-06 - accuracy: 0.8088 - mse: 1.7225e-06 - val_loss: 1.7525e-06 - val_accuracy: 0.8072 - val_mse: 1.7525e-06\n",
            "Epoch 8/10\n",
            "60000/60000 [==============================] - 4s 72us/step - loss: 1.7225e-06 - accuracy: 0.8088 - mse: 1.7225e-06 - val_loss: 1.7525e-06 - val_accuracy: 0.8072 - val_mse: 1.7525e-06\n",
            "Epoch 9/10\n",
            "60000/60000 [==============================] - 4s 72us/step - loss: 1.7225e-06 - accuracy: 0.8088 - mse: 1.7225e-06 - val_loss: 1.7525e-06 - val_accuracy: 0.8072 - val_mse: 1.7525e-06\n",
            "Epoch 10/10\n",
            "60000/60000 [==============================] - 4s 72us/step - loss: 1.7225e-06 - accuracy: 0.8088 - mse: 1.7225e-06 - val_loss: 1.7525e-06 - val_accuracy: 0.8072 - val_mse: 1.7525e-06\n"
          ],
          "name": "stdout"
        },
        {
          "output_type": "execute_result",
          "data": {
            "text/plain": [
              "<keras.callbacks.callbacks.History at 0x7fea23a16358>"
            ]
          },
          "metadata": {
            "tags": []
          },
          "execution_count": 74
        }
      ]
    },
    {
      "cell_type": "code",
      "metadata": {
        "id": "L-7RNenvN7TA",
        "colab_type": "code",
        "outputId": "b734b669-54f6-4ef0-ed14-34fd371657bc",
        "colab": {
          "base_uri": "https://localhost:8080/",
          "height": 51
        }
      },
      "source": [
        "autoencoder.evaluate(x_test,x_test)"
      ],
      "execution_count": 0,
      "outputs": [
        {
          "output_type": "stream",
          "text": [
            "10000/10000 [==============================] - 1s 80us/step\n"
          ],
          "name": "stdout"
        },
        {
          "output_type": "execute_result",
          "data": {
            "text/plain": [
              "[1.7525275994557886e-06, 0.8072424530982971, 1.7525270550322603e-06]"
            ]
          },
          "metadata": {
            "tags": []
          },
          "execution_count": 75
        }
      ]
    },
    {
      "cell_type": "code",
      "metadata": {
        "id": "w9nO3MHdPdE_",
        "colab_type": "code",
        "outputId": "79f4c23b-a3e8-4d82-b94a-41fe78e66738",
        "colab": {
          "base_uri": "https://localhost:8080/",
          "height": 252
        }
      },
      "source": [
        "decoded_imgs = autoencoder.predict(x_test)\n",
        "\n",
        "n = 10\n",
        "plt.figure(figsize=(20, 4))\n",
        "for i in range(1,n):\n",
        "    # display original\n",
        "    ax = plt.subplot(3, n, i)\n",
        "    plt.imshow(x_test_noisy[i].reshape(28, 28))\n",
        "    plt.gray()\n",
        "    ax.get_xaxis().set_visible(False)\n",
        "    ax.get_yaxis().set_visible(False)\n",
        "\n",
        "    # display reconstruction\n",
        "    ax = plt.subplot(3, n, i + n)\n",
        "    plt.imshow(decoded_imgs[i].reshape(28, 28))\n",
        "    plt.gray()\n",
        "    ax.get_xaxis().set_visible(False)\n",
        "    ax.get_yaxis().set_visible(False)\n",
        "\n",
        "    ax = plt.subplot(3, n, i + n + 10)\n",
        "    plt.imshow(x_test[i].reshape(28, 28))\n",
        "    plt.gray()\n",
        "    ax.get_xaxis().set_visible(False)\n",
        "    ax.get_yaxis().set_visible(False)\n",
        "plt.show()"
      ],
      "execution_count": 0,
      "outputs": [
        {
          "output_type": "display_data",
          "data": {
            "image/png": "[encoded data removed]",
            "text/plain": [
              "<Figure size 1440x288 with 27 Axes>"
            ]
          },
          "metadata": {
            "tags": [],
            "needs_background": "light"
          }
        }
      ]
    },
    {
      "cell_type": "code",
      "metadata": {
        "id": "UdfstDKLPc6i",
        "colab_type": "code",
        "colab": {}
      },
      "source": [
        ""
      ],
      "execution_count": 0,
      "outputs": []
    },
    {
      "cell_type": "code",
      "metadata": {
        "id": "UuB-eYfGPc4Z",
        "colab_type": "code",
        "colab": {}
      },
      "source": [
        ""
      ],
      "execution_count": 0,
      "outputs": []
    },
    {
      "cell_type": "code",
      "metadata": {
        "id": "DuzzntrkPc1G",
        "colab_type": "code",
        "colab": {}
      },
      "source": [
        ""
      ],
      "execution_count": 0,
      "outputs": []
    },
    {
      "cell_type": "code",
      "metadata": {
        "id": "eXUnLYKdPcxg",
        "colab_type": "code",
        "colab": {}
      },
      "source": [
        ""
      ],
      "execution_count": 0,
      "outputs": []
    }
  ]
}