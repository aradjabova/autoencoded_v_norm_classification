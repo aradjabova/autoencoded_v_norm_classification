{
  "nbformat": 4,
  "nbformat_minor": 0,
  "metadata": {
    "colab": {
      "name": "encoded_simple_cnn.ipynb",
      "provenance": [],
      "machine_shape": "hm",
      "authorship_tag": "ABX9TyOOBnzF7DOPis40QJvQ/Tjf",
      "include_colab_link": true
    },
    "kernelspec": {
      "name": "python3",
      "display_name": "Python 3"
    },
    "accelerator": "TPU"
  },
  "cells": [
    {
      "cell_type": "markdown",
      "metadata": {
        "id": "view-in-github",
        "colab_type": "text"
      },
      "source": [
        "<a href=\"https://colab.research.google.com/github/aradjabova/dsc-capstone-project-v2-online-ds-ft-120919/blob/master/encoded_simple_cnn.ipynb\" target=\"_parent\"><img src=\"https://colab.research.google.com/assets/colab-badge.svg\" alt=\"Open In Colab\"/></a>"
      ]
    },
    {
      "cell_type": "code",
      "metadata": {
        "id": "vdzcLSN6c1MK",
        "colab_type": "code",
        "outputId": "01269cd8-d593-4412-c0e6-b31fca2ef89e",
        "colab": {
          "base_uri": "https://localhost:8080/",
          "height": 34
        }
      },
      "source": [
        "from google.colab import drive\n",
        "drive.mount('/content/drive')"
      ],
      "execution_count": 0,
      "outputs": [
        {
          "output_type": "stream",
          "text": [
            "Drive already mounted at /content/drive; to attempt to forcibly remount, call drive.mount(\"/content/drive\", force_remount=True).\n"
          ],
          "name": "stdout"
        }
      ]
    },
    {
      "cell_type": "code",
      "metadata": {
        "id": "WqEZYtglTblF",
        "colab_type": "code",
        "outputId": "f020e804-62ce-45e6-e435-227c80481bba",
        "colab": {
          "base_uri": "https://localhost:8080/",
          "height": 156
        }
      },
      "source": [
        "import numpy as np\n",
        "import pandas as pd\n",
        "import glob\n",
        "import seaborn as sns\n",
        "from pathlib import Path\n",
        "import matplotlib.pyplot as plt\n",
        "%matplotlib inline\n",
        "import keras\n",
        "from keras.models import Sequential, Model\n",
        "!pip install -U -q PyDrive\n",
        "from pydrive.auth import GoogleAuth\n",
        "from pydrive.drive import GoogleDrive \n",
        "from google.colab import auth \n",
        "from oauth2client.client import GoogleCredentials\n",
        "from keras.callbacks import ModelCheckpoint, Callback, EarlyStopping\n",
        "import tensorflow as tf\n",
        "import torch\n",
        "from tensorflow import keras\n",
        "import os, os.path\n",
        "from keras.preprocessing.image import ImageDataGenerator\n",
        "from sklearn.preprocessing import StandardScaler, LabelBinarizer\n",
        "from sklearn.metrics import roc_auc_score,roc_curve,accuracy_score,recall_score, classification_report, confusion_matrix\n",
        "from sklearn.utils import class_weight\n",
        "from keras.layers import Conv2D, MaxPooling2D, Dense, Dropout, Flatten, SeparableConv2D, Activation, GaussianNoise, Input, UpSampling2D\n",
        "from keras import backend as K\n",
        "from imblearn.over_sampling import SMOTE\n",
        "from keras.preprocessing import image\n",
        "from keras import optimizers\n",
        "from sklearn.metrics import accuracy_score, confusion_matrix, classification_report\n",
        "from keras.preprocessing.image import load_img\n",
        "\n",
        "\n"
      ],
      "execution_count": 0,
      "outputs": [
        {
          "output_type": "stream",
          "text": [
            "/usr/local/lib/python3.6/dist-packages/statsmodels/tools/_testing.py:19: FutureWarning: pandas.util.testing is deprecated. Use the functions in the public API at pandas.testing instead.\n",
            "  import pandas.util.testing as tm\n",
            "Using TensorFlow backend.\n",
            "/usr/local/lib/python3.6/dist-packages/sklearn/externals/six.py:31: FutureWarning: The module is deprecated in version 0.21 and will be removed in version 0.23 since we've dropped support for Python 2.7. Please rely on the official version of six (https://pypi.org/project/six/).\n",
            "  \"(https://pypi.org/project/six/).\", FutureWarning)\n",
            "/usr/local/lib/python3.6/dist-packages/sklearn/utils/deprecation.py:144: FutureWarning: The sklearn.neighbors.base module is  deprecated in version 0.22 and will be removed in version 0.24. The corresponding classes / functions should instead be imported from sklearn.neighbors. Anything that cannot be imported from sklearn.neighbors is now part of the private API.\n",
            "  warnings.warn(message, FutureWarning)\n"
          ],
          "name": "stderr"
        }
      ]
    },
    {
      "cell_type": "code",
      "metadata": {
        "id": "pjJ6o8y2UifH",
        "colab_type": "code",
        "colab": {}
      },
      "source": [
        "path_train = Path('/content/drive/My Drive/Capstone/Kaggle/seg_train/seg_train')\n",
        "path_test = Path('/content/drive/My Drive/Capstone/Kaggle/seg_test/seg_test')\n",
        "path_pred = Path('/content/drive/My Drive/Capstone/Kaggle/seg_pred/seg_pred')"
      ],
      "execution_count": 0,
      "outputs": []
    },
    {
      "cell_type": "code",
      "metadata": {
        "id": "O22W3XFQxjnK",
        "colab_type": "code",
        "colab": {}
      },
      "source": [
        "categories = ['buildings','forest','glacier','mountain','sea','street']"
      ],
      "execution_count": 0,
      "outputs": []
    },
    {
      "cell_type": "code",
      "metadata": {
        "id": "FzPFiLKRhQS6",
        "colab_type": "code",
        "colab": {}
      },
      "source": [
        "def encoded_simple_cnn():\n",
        "  input_shape = (256,256,3)\n",
        "  # x = Conv2D(64, (3, 3), activation='relu', padding='same')(input_img)\n",
        "  # x = MaxPooling2D((2, 2), padding='same')(x)\n",
        "  # x = Conv2D(32, (3, 3), activation='relu', padding='same')(x)\n",
        "  # # x = MaxPooling2D((2, 2), padding='same')(x)\n",
        "  # # x = Conv2D(16, (3, 3), activation='relu', padding='same')(x)\n",
        "  # encoded = MaxPooling2D((2, 2), padding='same')(x)\n",
        "\n",
        "  # x = Flatten()(encoded)\n",
        "  # x = Dense(128, activation='relu')(x)\n",
        "  # x = Dropout(0.2)(x)\n",
        "  # cnn = Dense(6, activation='softmax')\n",
        "\n",
        "  model = Sequential()\n",
        "  model.add(Conv2D(64, (3,3), activation='relu', padding='same', input_shape=input_shape))\n",
        "  model.add(MaxPooling2D(pool_size=(2, 2), padding='same'))\n",
        "  model.add(Conv2D(32, (3,3), activation='relu', padding='same'))\n",
        "  model.add(MaxPooling2D(pool_size=(2, 2), padding='same'))\n",
        "\n",
        "  model.add(Flatten()) # Flattening the 2D arrays for fully connected layers\n",
        "  model.add(Dense(128, activation='relu'))\n",
        "  model.add(Dropout(0.2))\n",
        "  model.add(Dense(6,activation='softmax'))\n",
        "\n",
        "\n",
        "  checkpoint = ModelCheckpoint(\"best_model.hdf5\", monitor='loss', verbose=1,\n",
        "    save_best_only=True, mode='auto', period=1)\n",
        "\n",
        "  model.compile(optimizer='adam', \n",
        "              loss='categorical_crossentropy', \n",
        "              metrics=['accuracy'])\n",
        "\n",
        "\n",
        "  return model"
      ],
      "execution_count": 0,
      "outputs": []
    },
    {
      "cell_type": "code",
      "metadata": {
        "id": "6-hP-cX1lt60",
        "colab_type": "code",
        "colab": {}
      },
      "source": [
        "model = encoded_simple_cnn()"
      ],
      "execution_count": 0,
      "outputs": []
    },
    {
      "cell_type": "code",
      "metadata": {
        "id": "6QYsWVq5TM-d",
        "colab_type": "code",
        "colab": {}
      },
      "source": [
        "# def simple_cnn():\n",
        "#   input_shape = (256, 256, 3)\n",
        "#   model = Sequential()\n",
        "#   model.add(Conv2D(32, (3,3), activation='relu', input_shape=input_shape))\n",
        "#   model.add(MaxPooling2D(pool_size=(2, 2)))\n",
        "#   # model.add(Conv2D(16, (3,3), activation='relu'))\n",
        "#   # model.add(MaxPooling2D(pool_size=(2, 2)))\n",
        "#   model.add(Conv2D(8, (3,3), activation='relu'))\n",
        "#   model.add(MaxPooling2D(pool_size=(2, 2)))\n",
        "\n",
        "#   model.add(Flatten()) # Flattening the 2D arrays for fully connected layers\n",
        "#   model.add(Dense(128, activation='relu'))\n",
        "#   model.add(Dropout(0.2))\n",
        "#   model.add(Dense(6,activation='softmax'))\n",
        "\n",
        "#   model.compile(optimizer='adam', \n",
        "#                 loss='sparse_categorical_crossentropy', \n",
        "#                 metrics=['accuracy'])\n",
        "\n",
        "#   return model"
      ],
      "execution_count": 0,
      "outputs": []
    },
    {
      "cell_type": "code",
      "metadata": {
        "colab_type": "code",
        "id": "s9SmuN0MSKfl",
        "colab": {}
      },
      "source": [
        "batch_size = 300\n",
        "\n",
        "checkpoint = ModelCheckpoint(\"best_autoencoder.hdf5\", monitor='loss', verbose=1,\n",
        "    save_best_only=True, mode='auto', period=1)\n",
        "\n",
        "\n",
        "train_datagen = ImageDataGenerator(rescale=1./255, validation_split=.3, horizontal_flip=True)\n",
        "test_datagen = ImageDataGenerator(rescale=1./255, horizontal_flip=True)\n",
        "\n",
        "\n",
        "\n"
      ],
      "execution_count": 0,
      "outputs": []
    },
    {
      "cell_type": "code",
      "metadata": {
        "id": "FdZpt3B8k_C9",
        "colab_type": "code",
        "outputId": "a494ecb3-59b8-4abf-d4c5-4c88309210b3",
        "colab": {
          "base_uri": "https://localhost:8080/",
          "height": 51
        }
      },
      "source": [
        "\n",
        "train_generator = train_datagen.flow_from_directory(\n",
        "        path_train,\n",
        "        target_size=(256, 256),\n",
        "        batch_size=batch_size,\n",
        "        class_mode='categorical')\n",
        "\n",
        "test_generator = test_datagen.flow_from_directory(\n",
        "    path_test,\n",
        "    target_size=(256, 256),\n",
        "    batch_size=batch_size,\n",
        "    class_mode='categorical')"
      ],
      "execution_count": 0,
      "outputs": [
        {
          "output_type": "stream",
          "text": [
            "Found 14034 images belonging to 6 classes.\n",
            "Found 3000 images belonging to 6 classes.\n"
          ],
          "name": "stdout"
        }
      ]
    },
    {
      "cell_type": "code",
      "metadata": {
        "id": "LTyyhX7rF2f7",
        "colab_type": "code",
        "outputId": "2c5ca0b6-3518-4e63-cb96-40b55fba1fb7",
        "colab": {
          "base_uri": "https://localhost:8080/",
          "height": 697
        }
      },
      "source": [
        "train = model.fit_generator(\n",
        "    train_generator,\n",
        "    epochs=10, \n",
        "    validation_data=test_generator,\n",
        "    callbacks=[checkpoint]\n",
        "    )"
      ],
      "execution_count": 0,
      "outputs": [
        {
          "output_type": "stream",
          "text": [
            "Epoch 1/10\n",
            "47/47 [==============================] - 262s 6s/step - loss: 1.8805 - accuracy: 0.4025 - val_loss: 0.9971 - val_accuracy: 0.6060\n",
            "\n",
            "Epoch 00001: loss improved from inf to 1.88170, saving model to best_autoencoder.hdf5\n",
            "Epoch 2/10\n",
            "47/47 [==============================] - 267s 6s/step - loss: 0.9308 - accuracy: 0.6461 - val_loss: 1.0347 - val_accuracy: 0.6463\n",
            "\n",
            "Epoch 00002: loss improved from 1.88170 to 0.93004, saving model to best_autoencoder.hdf5\n",
            "Epoch 3/10\n",
            "47/47 [==============================] - 281s 6s/step - loss: 0.7690 - accuracy: 0.7147 - val_loss: 0.6923 - val_accuracy: 0.7340\n",
            "\n",
            "Epoch 00003: loss improved from 0.93004 to 0.76925, saving model to best_autoencoder.hdf5\n",
            "Epoch 4/10\n",
            "47/47 [==============================] - 279s 6s/step - loss: 0.6484 - accuracy: 0.7663 - val_loss: 0.6875 - val_accuracy: 0.7343\n",
            "\n",
            "Epoch 00004: loss improved from 0.76925 to 0.64791, saving model to best_autoencoder.hdf5\n",
            "Epoch 5/10\n",
            "47/47 [==============================] - 276s 6s/step - loss: 0.5374 - accuracy: 0.8092 - val_loss: 0.7361 - val_accuracy: 0.7520\n",
            "\n",
            "Epoch 00005: loss improved from 0.64791 to 0.53778, saving model to best_autoencoder.hdf5\n",
            "Epoch 6/10\n",
            "47/47 [==============================] - 274s 6s/step - loss: 0.4502 - accuracy: 0.8399 - val_loss: 0.7266 - val_accuracy: 0.7457\n",
            "\n",
            "Epoch 00006: loss improved from 0.53778 to 0.45024, saving model to best_autoencoder.hdf5\n",
            "Epoch 7/10\n",
            "47/47 [==============================] - 259s 6s/step - loss: 0.3787 - accuracy: 0.8717 - val_loss: 0.7167 - val_accuracy: 0.7717\n",
            "\n",
            "Epoch 00007: loss improved from 0.45024 to 0.37889, saving model to best_autoencoder.hdf5\n",
            "Epoch 8/10\n",
            "47/47 [==============================] - 270s 6s/step - loss: 0.3123 - accuracy: 0.8940 - val_loss: 0.7673 - val_accuracy: 0.7693\n",
            "\n",
            "Epoch 00008: loss improved from 0.37889 to 0.31246, saving model to best_autoencoder.hdf5\n",
            "Epoch 9/10\n",
            "47/47 [==============================] - 258s 5s/step - loss: 0.2539 - accuracy: 0.9157 - val_loss: 0.5554 - val_accuracy: 0.7860\n",
            "\n",
            "Epoch 00009: loss improved from 0.31246 to 0.25397, saving model to best_autoencoder.hdf5\n",
            "Epoch 10/10\n",
            "47/47 [==============================] - 259s 6s/step - loss: 0.2010 - accuracy: 0.9378 - val_loss: 0.7666 - val_accuracy: 0.7710\n",
            "\n",
            "Epoch 00010: loss improved from 0.25397 to 0.20096, saving model to best_autoencoder.hdf5\n"
          ],
          "name": "stdout"
        }
      ]
    },
    {
      "cell_type": "code",
      "metadata": {
        "id": "3RlQ0i3GFute",
        "colab_type": "code",
        "outputId": "4e64706a-1e9f-4f20-a8e3-fd881c75ea22",
        "colab": {
          "base_uri": "https://localhost:8080/",
          "height": 34
        }
      },
      "source": [
        "model.evaluate_generator(test_generator)"
      ],
      "execution_count": 0,
      "outputs": [
        {
          "output_type": "execute_result",
          "data": {
            "text/plain": [
              "[0.8032214641571045, 0.7716666460037231]"
            ]
          },
          "metadata": {
            "tags": []
          },
          "execution_count": 11
        }
      ]
    },
    {
      "cell_type": "code",
      "metadata": {
        "id": "sgz7lIGMER78",
        "colab_type": "code",
        "colab": {}
      },
      "source": [
        "model_save_name = 'encoded_simple_cnn.pt'\n",
        "path = F\"/content/drive/My Drive/Capstone/Notebooks/{model_save_name}\" \n",
        "torch.save(model, path)"
      ],
      "execution_count": 0,
      "outputs": []
    },
    {
      "cell_type": "code",
      "metadata": {
        "id": "oEK8LXlE1H8G",
        "colab_type": "code",
        "colab": {}
      },
      "source": [
        "pred = model.predict_generator(test_generator)\n",
        "pred = np.argmax(pred, axis=1)"
      ],
      "execution_count": 0,
      "outputs": []
    },
    {
      "cell_type": "code",
      "metadata": {
        "id": "PFZPizvq1H5x",
        "colab_type": "code",
        "colab": {}
      },
      "source": [
        "accuracy=train.history['accuracy']\n",
        "val_acc=train.history['val_accuracy']\n",
        "loss=train.history['loss']\n",
        "val_loss=train.history['val_loss']\n",
        "epochs=list(range(10))\n"
      ],
      "execution_count": 0,
      "outputs": []
    },
    {
      "cell_type": "code",
      "metadata": {
        "id": "2_qZxvLAdDiD",
        "colab_type": "code",
        "outputId": "cb4e7c9f-bcd0-4c90-a720-d056775478fe",
        "colab": {
          "base_uri": "https://localhost:8080/",
          "height": 295
        }
      },
      "source": [
        "import matplotlib.pyplot as plt\n",
        "plt.plot(epochs,accuracy)\n",
        "plt.title('Training Accuracy')\n",
        "plt.xlabel('EPOCHS')\n",
        "plt.ylabel('ACCURACY')\n",
        "plt.plot(epochs,val_acc)\n",
        "plt.legend(['TRAINING ACC','VAL ACC'])\n",
        "plt.show()"
      ],
      "execution_count": 0,
      "outputs": [
        {
          "output_type": "display_data",
          "data": {
            "image/png": "[encoded data removed]",
            "text/plain": [
              "<Figure size 432x288 with 1 Axes>"
            ]
          },
          "metadata": {
            "tags": [],
            "needs_background": "light"
          }
        }
      ]
    },
    {
      "cell_type": "code",
      "metadata": {
        "id": "ZkPk5nmLdDbF",
        "colab_type": "code",
        "outputId": "5869cabd-7091-49ad-f9cb-8124dec7a312",
        "colab": {
          "base_uri": "https://localhost:8080/",
          "height": 295
        }
      },
      "source": [
        "plt.plot(epochs,loss)\n",
        "plt.xlabel('EPOCHS')\n",
        "plt.ylabel('LOSS')\n",
        "plt.plot(epochs,val_loss)\n",
        "plt.legend(['TRAINING LOSS','VAL LOSS']) \n",
        "plt.title('Training Loss')\n",
        "plt.show()"
      ],
      "execution_count": 0,
      "outputs": [
        {
          "output_type": "display_data",
          "data": {
            "image/png": "[encoded data removed]",
            "text/plain": [
              "<Figure size 432x288 with 1 Axes>"
            ]
          },
          "metadata": {
            "tags": [],
            "needs_background": "light"
          }
        }
      ]
    },
    {
      "cell_type": "code",
      "metadata": {
        "colab_type": "code",
        "outputId": "ccb565f1-8b81-43e7-e655-1712eb4e0475",
        "id": "Q9np2EJ-tvgF",
        "colab": {
          "base_uri": "https://localhost:8080/",
          "height": 238
        }
      },
      "source": [
        "print(classification_report(test_generator.labels, pred))"
      ],
      "execution_count": 0,
      "outputs": [
        {
          "output_type": "stream",
          "text": [
            "              precision    recall  f1-score   support\n",
            "\n",
            "           0       0.16      0.14      0.15       437\n",
            "           1       0.15      0.17      0.16       474\n",
            "           2       0.19      0.20      0.20       553\n",
            "           3       0.16      0.20      0.18       525\n",
            "           4       0.16      0.13      0.15       510\n",
            "           5       0.16      0.15      0.16       501\n",
            "\n",
            "    accuracy                           0.17      3000\n",
            "   macro avg       0.17      0.17      0.16      3000\n",
            "weighted avg       0.17      0.17      0.17      3000\n",
            "\n"
          ],
          "name": "stdout"
        }
      ]
    },
    {
      "cell_type": "code",
      "metadata": {
        "colab_type": "code",
        "outputId": "5540d86e-f7e0-4baa-c218-c59f0f482ea0",
        "id": "G9JdKZ1NtvgJ",
        "colab": {
          "base_uri": "https://localhost:8080/",
          "height": 513
        }
      },
      "source": [
        "cm = confusion_matrix(test_generator.labels, pred)\n",
        "plt.figure(figsize=(8,8))\n",
        "sns.heatmap(cm, cmap=\"Blues\", annot=True, fmt='.3g', cbar=False)\n",
        "plt.title('Confusion Matrix of Autoencoded Images')\n",
        "plt.xlabel('Actual')\n",
        "plt.ylabel(\"Predicted\")\n",
        "plt.show()"
      ],
      "execution_count": 0,
      "outputs": [
        {
          "output_type": "display_data",
          "data": {
            "image/png": "[encoded data removed]",
            "text/plain": [
              "<Figure size 576x576 with 1 Axes>"
            ]
          },
          "metadata": {
            "tags": [],
            "needs_background": "light"
          }
        }
      ]
    },
    {
      "cell_type": "code",
      "metadata": {
        "id": "M94jQ9dcdLgM",
        "colab_type": "code",
        "outputId": "3eefae20-7a2d-4ad3-ab7e-619864746a4a",
        "colab": {
          "base_uri": "https://localhost:8080/",
          "height": 34
        }
      },
      "source": [
        "recall_score(test_generator.labels, pred, average='micro')"
      ],
      "execution_count": 0,
      "outputs": [
        {
          "output_type": "execute_result",
          "data": {
            "text/plain": [
              "0.16633333333333333"
            ]
          },
          "metadata": {
            "tags": []
          },
          "execution_count": 20
        }
      ]
    },
    {
      "cell_type": "code",
      "metadata": {
        "id": "MVnr1Xl5aUfI",
        "colab_type": "code",
        "colab": {}
      },
      "source": [
        ""
      ],
      "execution_count": 0,
      "outputs": []
    }
  ]
}